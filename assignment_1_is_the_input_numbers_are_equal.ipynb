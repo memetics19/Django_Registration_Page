{
  "nbformat": 4,
  "nbformat_minor": 0,
  "metadata": {
    "colab": {
      "name": "assignment_1_is_the_input_numbers_are_equal.ipynb",
      "provenance": [],
      "authorship_tag": "ABX9TyPuqXsyVBpIXQrQYLlztObt"
    },
    "kernelspec": {
      "name": "python3",
      "display_name": "Python 3"
    }
  },
  "cells": [
    {
      "cell_type": "code",
      "metadata": {
        "id": "KUbBUUO9r6nc",
        "colab_type": "code",
        "colab": {
          "base_uri": "https://localhost:8080/",
          "height": 34
        },
        "outputId": "e9a5110c-843a-47a9-91f3-66b1ae2f1ba7"
      },
      "source": [
        "a = int(input(\"enter a number here a = \"))"
      ],
      "execution_count": 1,
      "outputs": [
        {
          "output_type": "stream",
          "text": [
            "enter a number here a = 10\n"
          ],
          "name": "stdout"
        }
      ]
    },
    {
      "cell_type": "code",
      "metadata": {
        "id": "fAvMOjBYsf0p",
        "colab_type": "code",
        "colab": {
          "base_uri": "https://localhost:8080/",
          "height": 34
        },
        "outputId": "5695786c-591b-4264-cbbc-28a6b7d2a47e"
      },
      "source": [
        "b = int(input(\"Enter another number here b = \"))"
      ],
      "execution_count": 2,
      "outputs": [
        {
          "output_type": "stream",
          "text": [
            "Enter another number here b = 19\n"
          ],
          "name": "stdout"
        }
      ]
    },
    {
      "cell_type": "code",
      "metadata": {
        "id": "7pZd6Kfys433",
        "colab_type": "code",
        "colab": {
          "base_uri": "https://localhost:8080/",
          "height": 34
        },
        "outputId": "df634a54-dca8-4dc4-e35f-bc4b906e2524"
      },
      "source": [
        "if a == b:\n",
        "  print(\" The numbers are equal\")\n",
        "elif a>b:\n",
        "  print(\" a is greater dude!!!\")\n",
        "elif a<b:\n",
        "  print(\" b is greater bro !!!!!\")"
      ],
      "execution_count": 4,
      "outputs": [
        {
          "output_type": "stream",
          "text": [
            " b is greater bro !!!!!\n"
          ],
          "name": "stdout"
        }
      ]
    }
  ]
}